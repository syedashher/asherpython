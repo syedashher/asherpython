{
 "cells": [
  {
   "cell_type": "code",
   "execution_count": 1,
   "metadata": {
    "scrolled": true
   },
   "outputs": [
    {
     "name": "stdout",
     "output_type": "stream",
     "text": [
      "enter marks out of 10050\n",
      "enter marks out of 10040\n",
      "enter marks out of 10060\n",
      "enter marks out of 10080\n",
      "enter marks out of 10070\n",
      "totalmarks = 300\n",
      "percentage = 60.0\n",
      "grade D\n"
     ]
    }
   ],
   "source": [
    "marks=[]\n",
    "totalmarks=0;\n",
    "for i in range (5):\n",
    " x=int(input(\"enter marks out of 100\"))\n",
    "\n",
    " marks.append(x)\n",
    " totalmarks=totalmarks+x\n",
    "print(\"totalmarks =\",totalmarks)\n",
    "percentage=(totalmarks*100)/500\n",
    "print(\"percentage =\",percentage)\n",
    "if percentage>=90:\n",
    " print(\"grade A\")\n",
    "elif percentage>=80:\n",
    " print(\"grade B\")\n",
    "elif percentage>=70:\n",
    " print(\"grade C\")\n",
    "elif percentage>=60:\n",
    " print(\"grade D\")\n",
    "else:\n",
    " print(\"fail\")\n"
   ]
  },
  {
   "cell_type": "code",
   "execution_count": 3,
   "metadata": {},
   "outputs": [
    {
     "name": "stdout",
     "output_type": "stream",
     "text": [
      "enter number2\n",
      "even no\n"
     ]
    }
   ],
   "source": [
    "x=int(input(\"enter number\"))\n",
    "if x%2==0:\n",
    " print(\"even no\")\n",
    "else:\n",
    " print(\"odd no\")\n"
   ]
  },
  {
   "cell_type": "code",
   "execution_count": 4,
   "metadata": {},
   "outputs": [
    {
     "name": "stdout",
     "output_type": "stream",
     "text": [
      "5\n"
     ]
    }
   ],
   "source": [
    "list=[22,21,33,44,55]\n",
    "print(len(list))"
   ]
  },
  {
   "cell_type": "code",
   "execution_count": 6,
   "metadata": {},
   "outputs": [
    {
     "name": "stdout",
     "output_type": "stream",
     "text": [
      "sum of list= 135\n"
     ]
    }
   ],
   "source": [
    "list=[22,21,33,4,55]\n",
    "x=len(list)\n",
    "sum=0\n",
    "for i in range (x):\n",
    " sum=sum+list[i]\n",
    "print(\"sum of list=\",sum)"
   ]
  },
  {
   "cell_type": "code",
   "execution_count": 8,
   "metadata": {},
   "outputs": [
    {
     "name": "stdout",
     "output_type": "stream",
     "text": [
      "189\n"
     ]
    }
   ],
   "source": [
    "list=[-22,55,33,44,189]\n",
    "print(max(list))"
   ]
  },
  {
   "cell_type": "code",
   "execution_count": 18,
   "metadata": {},
   "outputs": [
    {
     "name": "stdout",
     "output_type": "stream",
     "text": [
      "1\n",
      "1\n",
      "2\n",
      "3\n"
     ]
    }
   ],
   "source": [
    "list=[1,1,2,3,5,8,13,21,34,55,89]\n",
    "x=len(list)\n",
    "for i in range(x):\n",
    "    if list[i]<5:\n",
    "        print(list[i])"
   ]
  },
  {
   "cell_type": "code",
   "execution_count": null,
   "metadata": {},
   "outputs": [],
   "source": []
  }
 ],
 "metadata": {
  "kernelspec": {
   "display_name": "Python 3",
   "language": "python",
   "name": "python3"
  },
  "language_info": {
   "codemirror_mode": {
    "name": "ipython",
    "version": 3
   },
   "file_extension": ".py",
   "mimetype": "text/x-python",
   "name": "python",
   "nbconvert_exporter": "python",
   "pygments_lexer": "ipython3",
   "version": "3.7.4"
  }
 },
 "nbformat": 4,
 "nbformat_minor": 2
}
